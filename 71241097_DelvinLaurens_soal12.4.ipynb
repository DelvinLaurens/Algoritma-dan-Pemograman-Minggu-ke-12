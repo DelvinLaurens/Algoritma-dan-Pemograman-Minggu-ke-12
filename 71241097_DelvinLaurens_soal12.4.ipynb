{
 "cells": [
  {
   "cell_type": "code",
   "execution_count": 2,
   "metadata": {},
   "outputs": [
    {
     "name": "stdout",
     "output_type": "stream",
     "text": [
      "{'uct.ac.za': 6, 'media.berkeley.edu': 4, 'umich.edu': 7, 'iupui.edu': 8, 'caret.cam.ac.uk': 1, 'gmail.com': 1}\n"
     ]
    }
   ],
   "source": [
    "import re\n",
    "try:\n",
    "    masukan = input(\"Masukkan Nama file: \")\n",
    "    with open(masukan,'r') as file:\n",
    "        file = file.read()\n",
    "        simpan = {}\n",
    "        jumlahpesan = re.findall(r'^From \\S+@(\\S+)',file,re.MULTILINE)\n",
    "        for i in jumlahpesan:\n",
    "            simpan[i] = simpan.get(i,0) + 1\n",
    "        print(simpan)\n",
    "except FileNotFoundError:\n",
    "    print(\"File tidak ditemukan \")"
   ]
  }
 ],
 "metadata": {
  "kernelspec": {
   "display_name": "Python 3",
   "language": "python",
   "name": "python3"
  },
  "language_info": {
   "codemirror_mode": {
    "name": "ipython",
    "version": 3
   },
   "file_extension": ".py",
   "mimetype": "text/x-python",
   "name": "python",
   "nbconvert_exporter": "python",
   "pygments_lexer": "ipython3",
   "version": "3.13.2"
  }
 },
 "nbformat": 4,
 "nbformat_minor": 2
}
