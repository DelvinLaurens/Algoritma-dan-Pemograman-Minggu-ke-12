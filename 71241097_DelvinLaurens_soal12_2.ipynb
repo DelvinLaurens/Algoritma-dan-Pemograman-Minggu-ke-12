{
  "nbformat": 4,
  "nbformat_minor": 0,
  "metadata": {
    "colab": {
      "provenance": []
    },
    "kernelspec": {
      "name": "python3",
      "display_name": "Python 3"
    },
    "language_info": {
      "name": "python"
    }
  },
  "cells": [
    {
      "cell_type": "code",
      "execution_count": 1,
      "metadata": {
        "colab": {
          "base_uri": "https://localhost:8080/"
        },
        "id": "e7wDLtri2TCw",
        "outputId": "7e4d21da-413a-48c8-f9f4-5a15bfcf3bb3"
      },
      "outputs": [
        {
          "output_type": "stream",
          "name": "stdout",
          "text": [
            "{'green': '#008000', 'blue': '#0000FF', 'red': '#FF0000'}\n"
          ]
        }
      ],
      "source": [
        "Lista = ['red', 'green', 'blue']\n",
        "Listb = ['#FF0000','#008000', '#0000FF']\n",
        "gabung = {\n",
        "    'green':Listb[Lista.index('green')],\n",
        "    'blue':Listb[Lista.index('blue')],\n",
        "    'red':Listb[Lista.index('red')]\n",
        "}\n",
        "print(gabung)"
      ]
    }
  ]
}