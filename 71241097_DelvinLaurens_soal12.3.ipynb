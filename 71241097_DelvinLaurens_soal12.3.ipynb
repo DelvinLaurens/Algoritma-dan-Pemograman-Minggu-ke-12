{
 "cells": [
  {
   "cell_type": "code",
   "execution_count": 4,
   "metadata": {},
   "outputs": [
    {
     "name": "stdout",
     "output_type": "stream",
     "text": [
      "{'stephen.marquard@uct.ac.za': 2, 'louis@media.berkeley.edu': 3, 'zqian@umich.edu': 4, 'rjlowe@iupui.edu': 2, 'cwen@iupui.edu': 5, 'gsilver@umich.edu': 3, 'wagnermr@iupui.edu': 1, 'antranig@caret.cam.ac.uk': 1, 'gopal.ramasammycook@gmail.com': 1, 'david.horwitz@uct.ac.za': 4, 'ray@media.berkeley.edu': 1}\n"
     ]
    }
   ],
   "source": [
    "import re \n",
    "masukan = input(\"Masukkan nama file:\")\n",
    "try:\n",
    "    with open(masukan,'r') as file:\n",
    "        file = file.read()\n",
    "        tampung = {}\n",
    "        cari = re.findall(r\"^Author: (\\S+)\",file,re.MULTILINE)\n",
    "        for i in cari:\n",
    "            tampung[i] = tampung.get(i,0) + 1\n",
    "        print(tampung)    \n",
    "except FileNotFoundError:\n",
    "    print(\"file tidak ditemukan\")"
   ]
  }
 ],
 "metadata": {
  "kernelspec": {
   "display_name": "Python 3",
   "language": "python",
   "name": "python3"
  },
  "language_info": {
   "codemirror_mode": {
    "name": "ipython",
    "version": 3
   },
   "file_extension": ".py",
   "mimetype": "text/x-python",
   "name": "python",
   "nbconvert_exporter": "python",
   "pygments_lexer": "ipython3",
   "version": "3.13.2"
  }
 },
 "nbformat": 4,
 "nbformat_minor": 2
}
