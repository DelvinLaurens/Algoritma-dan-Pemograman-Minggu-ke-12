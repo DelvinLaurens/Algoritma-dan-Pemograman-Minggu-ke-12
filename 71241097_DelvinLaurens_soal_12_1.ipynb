{
  "nbformat": 4,
  "nbformat_minor": 0,
  "metadata": {
    "colab": {
      "provenance": []
    },
    "kernelspec": {
      "name": "python3",
      "display_name": "Python 3"
    },
    "language_info": {
      "name": "python"
    }
  },
  "cells": [
    {
      "cell_type": "code",
      "execution_count": 1,
      "metadata": {
        "colab": {
          "base_uri": "https://localhost:8080/"
        },
        "id": "qlj0TVqc0ZkJ",
        "outputId": "d7156d24-6439-4cf8-f6ef-53b5df1a4a53"
      },
      "outputs": [
        {
          "output_type": "stream",
          "name": "stdout",
          "text": [
            "key\tvalue\titem\n",
            "1\t10\t1\n",
            "2\t20\t2\n",
            "3\t30\t3\n",
            "4\t40\t4\n",
            "5\t50\t5\n",
            "6\t60\t6\n"
          ]
        }
      ],
      "source": [
        "data = {1: 10, 2: 20, 3: 30, 4: 40, 5: 50, 6: 60}\n",
        "print(f'key\\tvalue\\titem')\n",
        "for i,j in data.items():\n",
        "    print (f'{i}\\t{j}\\t{i}')"
      ]
    }
  ]
}